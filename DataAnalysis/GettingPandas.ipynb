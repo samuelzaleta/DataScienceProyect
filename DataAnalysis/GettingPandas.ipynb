{
 "cells": [
  {
   "cell_type": "code",
   "execution_count": 7,
   "metadata": {
    "collapsed": true
   },
   "outputs": [
    {
     "name": "stdout",
     "output_type": "stream",
     "text": [
      "[ 4 -5  6  7]\n",
      "Index(['d', 'b', 'a', 'c'], dtype='object')\n",
      "-5\n",
      "c    7\n",
      "d    6\n",
      "b    7\n",
      "dtype: int64\n",
      "d    6\n",
      "b    7\n",
      "c    7\n",
      "dtype: int64\n",
      "d    12\n",
      "b    14\n",
      "a   -10\n",
      "c    14\n",
      "dtype: int64\n",
      "d     403.428793\n",
      "b    1096.633158\n",
      "a       0.006738\n",
      "c    1096.633158\n",
      "dtype: float64\n"
     ]
    }
   ],
   "source": [
    "import numpy as np\n",
    "import pandas as pd\n",
    "obj= pd.Series([4,-5,6,7])\n",
    "print(obj.values)\n",
    "\n",
    "obj2 =pd.Series([4,7,-5,7], index=['d','b','a','c'])\n",
    "print(obj2.index)\n",
    "print(obj2['a'])\n",
    "obj2['d'] =6\n",
    "print(obj2[['c','d','b']])\n",
    "print(obj2[obj2>2])\n",
    "print(obj2*2)\n",
    "print(np.exp(obj2))"
   ]
  },
  {
   "cell_type": "code",
   "execution_count": 8,
   "outputs": [
    {
     "name": "stdout",
     "output_type": "stream",
     "text": [
      "True\n",
      "False\n",
      "Ohio      35000\n",
      "Texas     71000\n",
      "Oregon    16000\n",
      "Utah       5000\n",
      "dtype: int64\n",
      "California        NaN\n",
      "Ohio          35000.0\n",
      "Oregon        16000.0\n",
      "Texas         71000.0\n",
      "dtype: float64\n",
      "California     True\n",
      "Ohio          False\n",
      "Oregon        False\n",
      "Texas         False\n",
      "dtype: bool\n",
      "California    False\n",
      "Ohio           True\n",
      "Oregon         True\n",
      "Texas          True\n",
      "dtype: bool\n",
      "California     True\n",
      "Ohio          False\n",
      "Oregon        False\n",
      "Texas         False\n",
      "dtype: bool\n"
     ]
    }
   ],
   "source": [
    "print('b' in obj2)\n",
    "print('e' in obj2)\n",
    "sdata = {'Ohio': 35000, 'Texas': 71000, 'Oregon': 16000, 'Utah': 5000}\n",
    "obj3 = pd.Series(sdata)\n",
    "print(obj3)\n",
    "states =['California', 'Ohio', 'Oregon', 'Texas']\n",
    "obj4 = pd.Series(sdata, index=states)\n",
    "print(obj4)\n",
    "print(pd.isnull(obj4))\n",
    "print(pd.notnull(obj4))\n",
    "print(obj4.isnull())"
   ],
   "metadata": {
    "collapsed": false,
    "pycharm": {
     "name": "#%%\n"
    }
   }
  },
  {
   "cell_type": "code",
   "execution_count": 9,
   "outputs": [
    {
     "name": "stdout",
     "output_type": "stream",
     "text": [
      "state\n",
      "California        NaN\n",
      "Ohio          35000.0\n",
      "Oregon        16000.0\n",
      "Texas         71000.0\n",
      "Name: Population, dtype: float64\n"
     ]
    }
   ],
   "source": [
    "#Both the Series object itself and its index have a name attribute, which integrates with\n",
    "#other key areas of pandas functionality\n",
    "obj4.name ='Population'\n",
    "obj4.index.name ='state'\n",
    "print(obj4)\n"
   ],
   "metadata": {
    "collapsed": false,
    "pycharm": {
     "name": "#%%\n"
    }
   }
  },
  {
   "cell_type": "code",
   "execution_count": 10,
   "outputs": [
    {
     "name": "stdout",
     "output_type": "stream",
     "text": [
      "    state  year  pop\n",
      "0    Ohio  2000  1.5\n",
      "1    Ohio  2001  1.7\n",
      "2    Ohio  2002  3.6\n",
      "3  Nevada  2001  2.4\n",
      "4  Nevada  2002  2.9\n",
      "5  Nevada  2003  3.2\n",
      "    state  year  pop\n",
      "0    Ohio  2000  1.5\n",
      "1    Ohio  2001  1.7\n",
      "2    Ohio  2002  3.6\n",
      "3  Nevada  2001  2.4\n",
      "4  Nevada  2002  2.9\n",
      "   year   state  pop\n",
      "0  2000    Ohio  1.5\n",
      "1  2001    Ohio  1.7\n",
      "2  2002    Ohio  3.6\n",
      "3  2001  Nevada  2.4\n",
      "4  2002  Nevada  2.9\n",
      "5  2003  Nevada  3.2\n",
      "       year   state  pop debt\n",
      "one    2000    Ohio  1.5  NaN\n",
      "two    2001    Ohio  1.7  NaN\n",
      "three  2002    Ohio  3.6  NaN\n",
      "four   2001  Nevada  2.4  NaN\n",
      "five   2002  Nevada  2.9  NaN\n",
      "six    2003  Nevada  3.2  NaN\n",
      "Index(['year', 'state', 'pop', 'debt'], dtype='object')\n",
      "one        Ohio\n",
      "two        Ohio\n",
      "three      Ohio\n",
      "four     Nevada\n",
      "five     Nevada\n",
      "six      Nevada\n",
      "Name: state, dtype: object\n",
      "one      2000\n",
      "two      2001\n",
      "three    2002\n",
      "four     2001\n",
      "five     2002\n",
      "six      2003\n",
      "Name: year, dtype: int64\n"
     ]
    }
   ],
   "source": [
    "#dataframe\n",
    "data = {'state': ['Ohio', 'Ohio', 'Ohio', 'Nevada', 'Nevada', 'Nevada'],\n",
    " 'year': [2000, 2001, 2002, 2001, 2002, 2003],\n",
    " 'pop': [1.5, 1.7, 3.6, 2.4, 2.9, 3.2]}\n",
    "frame = pd.DataFrame(data)\n",
    "print(frame)\n",
    "print(frame.head())\n",
    "print(pd.DataFrame(data, columns=['year','state','pop']))\n",
    "\n",
    "frame2 = pd.DataFrame(data,\n",
    "                      columns=['year', 'state', 'pop', 'debt'],\n",
    "                      index=['one', 'two', 'three', 'four', 'five', 'six']\n",
    "                      )\n",
    "print(frame2)\n",
    "print(frame2.columns)\n",
    "print(frame2['state'])\n",
    "print(frame2.year)"
   ],
   "metadata": {
    "collapsed": false,
    "pycharm": {
     "name": "#%%\n"
    }
   }
  },
  {
   "cell_type": "code",
   "execution_count": 11,
   "outputs": [
    {
     "name": "stdout",
     "output_type": "stream",
     "text": [
      "year     2002\n",
      "state    Ohio\n",
      "pop       3.6\n",
      "debt      NaN\n",
      "Name: three, dtype: object\n",
      "       year   state  pop  debt\n",
      "one    2000    Ohio  1.5  16.5\n",
      "two    2001    Ohio  1.7  16.5\n",
      "three  2002    Ohio  3.6  16.5\n",
      "four   2001  Nevada  2.4  16.5\n",
      "five   2002  Nevada  2.9  16.5\n",
      "six    2003  Nevada  3.2  16.5\n",
      "       year   state  pop  debt\n",
      "one    2000    Ohio  1.5   0.0\n",
      "two    2001    Ohio  1.7   1.0\n",
      "three  2002    Ohio  3.6   2.0\n",
      "four   2001  Nevada  2.4   3.0\n",
      "five   2002  Nevada  2.9   4.0\n",
      "six    2003  Nevada  3.2   5.0\n"
     ]
    }
   ],
   "source": [
    "#loc\n",
    "print(frame2.loc['three'])\n",
    "#create new colum\n",
    "frame2['debt']= 16.5\n",
    "print(frame2)\n",
    "frame2.debt = np.arange(6.)\n",
    "print(frame2)"
   ],
   "metadata": {
    "collapsed": false,
    "pycharm": {
     "name": "#%%\n"
    }
   }
  },
  {
   "cell_type": "code",
   "execution_count": 12,
   "outputs": [
    {
     "name": "stdout",
     "output_type": "stream",
     "text": [
      "       year   state  pop  debt\n",
      "one    2000    Ohio  1.5   NaN\n",
      "two    2001    Ohio  1.7  -1.2\n",
      "three  2002    Ohio  3.6   NaN\n",
      "four   2001  Nevada  2.4  -1.5\n",
      "five   2002  Nevada  2.9  -1.7\n",
      "six    2003  Nevada  3.2   NaN\n",
      "       year   state  pop  debt  eastern\n",
      "one    2000    Ohio  1.5   NaN     True\n",
      "two    2001    Ohio  1.7  -1.2     True\n",
      "three  2002    Ohio  3.6   NaN     True\n",
      "four   2001  Nevada  2.4  -1.5    False\n",
      "five   2002  Nevada  2.9  -1.7    False\n",
      "six    2003  Nevada  3.2   NaN    False\n"
     ]
    }
   ],
   "source": [
    "val = pd.Series([-1.2, -1.5, -1.7], index=['two', 'four', 'five'])\n",
    "frame2['debt'] = val\n",
    "print(frame2)\n",
    "#New columns cannot be created with the frame2.eastern syntax\n",
    "frame2['eastern'] = frame2.state =='Ohio'\n",
    "print(frame2)\n",
    "del frame2['eastern']\n"
   ],
   "metadata": {
    "collapsed": false,
    "pycharm": {
     "name": "#%%\n"
    }
   }
  },
  {
   "cell_type": "code",
   "execution_count": 13,
   "outputs": [
    {
     "name": "stdout",
     "output_type": "stream",
     "text": [
      "      Nevada  Ohio\n",
      "2001     2.4   1.7\n",
      "2002     2.9   3.6\n",
      "2000     NaN   1.5\n",
      "        2001  2002  2000\n",
      "Nevada   2.4   2.9   NaN\n",
      "Ohio     1.7   3.6   1.5\n",
      "      Nevada  Ohio\n",
      "2001     2.4   1.7\n",
      "2002     2.9   3.6\n",
      "2003     NaN   NaN\n"
     ]
    }
   ],
   "source": [
    "pop = {'Nevada': {2001: 2.4, 2002: 2.9}, 'Ohio': {2000: 1.5, 2001: 1.7, 2002: 3.6}}\n",
    "frame3 = pd.DataFrame(pop)\n",
    "print(frame3)\n",
    "print(frame3.T)\n",
    "print(pd.DataFrame(pop, index=[2001, 2002, 2003]))"
   ],
   "metadata": {
    "collapsed": false,
    "pycharm": {
     "name": "#%%\n"
    }
   }
  },
  {
   "cell_type": "code",
   "execution_count": 14,
   "outputs": [
    {
     "name": "stdout",
     "output_type": "stream",
     "text": [
      "      Nevada  Ohio\n",
      "2001     2.4   1.7\n",
      "2002     2.9   3.6\n",
      "2000     NaN   1.5\n",
      "Index(['Nevada', 'Ohio'], dtype='object')\n",
      "True\n",
      "False\n"
     ]
    },
    {
     "data": {
      "text/plain": "'\\nMethod           Description\\nappend           Concatenate with additional Index objects, producing a new Index\\ndifference       Compute set difference as an Index\\nintersection     Compute set intersection\\nunion            Compute set union\\nisin             Compute boolean array indicating whether each value is contained in the passed collection\\ndelete           Compute new Index with element at index i deleted\\ndrop             Compute new Index by deleting passed values\\ninsert           Compute new Index by inserting element at index i\\nis_monotonic     Returns True if each element is greater than or equal to the previous element\\nis_unique        Returns True if the Index has no duplicate values\\nunique           Compute the array of unique values in the Index\\n'"
     },
     "execution_count": 14,
     "metadata": {},
     "output_type": "execute_result"
    }
   ],
   "source": [
    "print(frame3)\n",
    "print(frame3.columns)\n",
    "print('Ohio' in  frame3.columns)\n",
    "print(2003 in frame3.index)\n",
    "'''\n",
    "Method           Description\n",
    "append           Concatenate with additional Index objects, producing a new Index\n",
    "difference       Compute set difference as an Index\n",
    "intersection     Compute set intersection\n",
    "union            Compute set union\n",
    "isin             Compute boolean array indicating whether each value is contained in the passed collection\n",
    "delete           Compute new Index with element at index i deleted\n",
    "drop             Compute new Index by deleting passed values\n",
    "insert           Compute new Index by inserting element at index i\n",
    "is_monotonic     Returns True if each element is greater than or equal to the previous element\n",
    "is_unique        Returns True if the Index has no duplicate values\n",
    "unique           Compute the array of unique values in the Index\n",
    "'''"
   ],
   "metadata": {
    "collapsed": false,
    "pycharm": {
     "name": "#%%\n"
    }
   }
  },
  {
   "cell_type": "code",
   "execution_count": 15,
   "outputs": [
    {
     "name": "stdout",
     "output_type": "stream",
     "text": [
      "d    4.5\n",
      "b    7.2\n",
      "a   -5.3\n",
      "c    3.6\n",
      "dtype: float64\n",
      "a   -5.3\n",
      "b    7.2\n",
      "c    3.6\n",
      "d    4.5\n",
      "e    NaN\n",
      "dtype: float64\n",
      "0      blue\n",
      "2    purple\n",
      "4    yellow\n",
      "dtype: object\n",
      "0      blue\n",
      "1      blue\n",
      "2    purple\n",
      "3    purple\n",
      "4    yellow\n",
      "5    yellow\n",
      "dtype: object\n",
      "0      blue\n",
      "1    purple\n",
      "2    purple\n",
      "3    yellow\n",
      "4    yellow\n",
      "5       NaN\n",
      "dtype: object\n"
     ]
    }
   ],
   "source": [
    "obj = pd.Series([4.5, 7.2, -5.3, 3.6], index=['d', 'b', 'a', 'c'])\n",
    "print(obj)\n",
    "obj2 = obj.reindex(['a', 'b', 'c', 'd', 'e'])\n",
    "print(obj2)\n",
    "obj3 = pd.Series(['blue', 'purple', 'yellow'], index=[0, 2, 4])\n",
    "print(obj3)\n",
    "obj3 = obj3.reindex(range(6), method='ffill')\n",
    "print(obj3)\n",
    "obj4 = pd.Series(['blue', 'purple', 'yellow'], index=[0, 2, 4])\n",
    "obj4= obj4.reindex(range(6),method='bfill')\n",
    "print(obj4)"
   ],
   "metadata": {
    "collapsed": false,
    "pycharm": {
     "name": "#%%\n"
    }
   }
  },
  {
   "cell_type": "code",
   "execution_count": 16,
   "outputs": [
    {
     "name": "stdout",
     "output_type": "stream",
     "text": [
      "     A    B   C  D\n",
      "0  NaN  2.0 NaN  0\n",
      "1  3.0  4.0 NaN  1\n",
      "2  NaN  NaN NaN  5\n",
      "3  NaN  3.0 NaN  4\n",
      "     A    B    C  D\n",
      "0  0.0  2.0  0.0  0\n",
      "1  3.0  4.0  0.0  1\n",
      "2  0.0  0.0  0.0  5\n",
      "3  0.0  3.0  0.0  4\n",
      "     A    B   C  D\n",
      "0  NaN  2.0 NaN  0\n",
      "1  3.0  4.0 NaN  1\n",
      "2  3.0  4.0 NaN  5\n",
      "3  3.0  3.0 NaN  4\n",
      "     A    B    C  D\n",
      "0  0.0  2.0  2.0  0\n",
      "1  3.0  4.0  2.0  1\n",
      "2  0.0  1.0  2.0  5\n",
      "3  0.0  3.0  2.0  4\n"
     ]
    }
   ],
   "source": [
    "df = pd.DataFrame([[np.nan, 2, np.nan, 0],\n",
    "                   [3, 4, np.nan, 1],\n",
    "                   [np.nan, np.nan, np.nan, 5],\n",
    "                   [np.nan, 3, np.nan, 4]],\n",
    "                  columns=list(\"ABCD\"))\n",
    "print(df)\n",
    "print(df.fillna(0))\n",
    "print(df.fillna(method='ffill'))\n",
    "values = {\"A\": 0, \"B\": 1, \"C\": 2, \"D\": 3}\n",
    "print(df.fillna(value=values))"
   ],
   "metadata": {
    "collapsed": false,
    "pycharm": {
     "name": "#%%\n"
    }
   }
  },
  {
   "cell_type": "code",
   "execution_count": 17,
   "outputs": [
    {
     "name": "stdout",
     "output_type": "stream",
     "text": [
      "a    0.0\n",
      "b    1.0\n",
      "c    2.0\n",
      "d    3.0\n",
      "dtype: float64\n",
      "1.0\n",
      "1.0\n",
      "c    2.0\n",
      "d    3.0\n",
      "dtype: float64\n",
      "b    1.0\n",
      "a    0.0\n",
      "c    2.0\n",
      "dtype: float64\n",
      "b    1.0\n",
      "d    3.0\n",
      "dtype: float64\n",
      "a    0.0\n",
      "b    1.0\n",
      "dtype: float64\n",
      "b    1.0\n",
      "c    2.0\n",
      "dtype: float64\n",
      "a    0.0\n",
      "b    5.0\n",
      "c    5.0\n",
      "d    3.0\n",
      "dtype: float64\n"
     ]
    }
   ],
   "source": [
    "#indexing, selection and filterin\n",
    "obj = pd.Series(np.arange(4.), index=['a', 'b', 'c', 'd'])\n",
    "print(obj)\n",
    "print(obj['b'])\n",
    "print(obj[1])\n",
    "print(obj[2:4])\n",
    "print(obj[['b','a','c']])\n",
    "print(obj[[1,3]])\n",
    "print(obj[obj < 2])\n",
    "print(obj['b':'c'])\n",
    "obj['b':'c']=5\n",
    "print(obj)"
   ],
   "metadata": {
    "collapsed": false,
    "pycharm": {
     "name": "#%%\n"
    }
   }
  },
  {
   "cell_type": "code",
   "execution_count": 18,
   "outputs": [
    {
     "name": "stdout",
     "output_type": "stream",
     "text": [
      "          one  two  three  four\n",
      "Ohio        0    1      2     3\n",
      "Colorado    4    5      6     7\n",
      "Utah        8    9     10    11\n",
      "New York   12   13     14    15\n",
      "Ohio         1\n",
      "Colorado     5\n",
      "Utah         9\n",
      "New York    13\n",
      "Name: two, dtype: int32\n",
      "          one  three\n",
      "Ohio        0      2\n",
      "Colorado    4      6\n",
      "Utah        8     10\n",
      "New York   12     14\n",
      "          one  two  three  four\n",
      "Ohio        0    1      2     3\n",
      "Colorado    4    5      6     7\n",
      "          one  two  three  four\n",
      "Colorado    4    5      6     7\n",
      "Utah        8    9     10    11\n",
      "New York   12   13     14    15\n",
      "          one  two  three  four\n",
      "Ohio      0.0  1.0    2.0   3.0\n",
      "Colorado  4.0  NaN    NaN   NaN\n",
      "Utah      NaN  NaN    NaN   NaN\n",
      "New York  NaN  NaN    NaN   NaN\n",
      "          one  two  three  four\n",
      "Ohio        0    0      0     0\n",
      "Colorado    0    5      6     7\n",
      "Utah        8    9     10    11\n",
      "New York   12   13     14    15\n"
     ]
    }
   ],
   "source": [
    "data = pd.DataFrame(np.arange(16).reshape((4, 4)),\n",
    "        index=['Ohio', 'Colorado', 'Utah', 'New York'],\n",
    "        columns=['one', 'two', 'three', 'four'])\n",
    "print(data)\n",
    "print(data['two'])\n",
    "print(data[['one','three']])\n",
    "#slicing por row\n",
    "'''\n",
    "The row selection syntax data[:2] is provided as a convenience. Passing a single ele‐\n",
    "ment or a list to the [] operator selects columns.\n",
    "'''\n",
    "print(data[:2])\n",
    "print(data[data['three'] > 5])\n",
    "print(data[data < 5])\n",
    "data[data<5] =0\n",
    "print(data)"
   ],
   "metadata": {
    "collapsed": false,
    "pycharm": {
     "name": "#%%\n"
    }
   }
  },
  {
   "cell_type": "code",
   "execution_count": 19,
   "outputs": [
    {
     "name": "stdout",
     "output_type": "stream",
     "text": [
      "two      5\n",
      "three    6\n",
      "Name: Colorado, dtype: int32\n",
      "four    11\n",
      "one      8\n",
      "two      9\n",
      "Name: Utah, dtype: int32\n",
      "one       8\n",
      "two       9\n",
      "three    10\n",
      "four     11\n",
      "Name: Utah, dtype: int32\n",
      "          four  one  two\n",
      "Colorado     7    0    5\n",
      "Utah        11    8    9\n",
      "Ohio        0\n",
      "Colorado    5\n",
      "Utah        9\n",
      "Name: two, dtype: int32\n",
      "          one  two  three\n",
      "Colorado    0    5      6\n",
      "Utah        8    9     10\n",
      "New York   12   13     14\n"
     ]
    },
    {
     "data": {
      "text/plain": "'\\nType                Notes\\ndf[val]             Select single column or sequence of columns from the DataFrame; special case\\n                    conveniences: boolean array (filter rows), slice (slice rows), or boolean DataFrame\\n                    (set values based on some criterion)\\ndf.loc[val]         Selects single row or subset of rows from the DataFrame by label\\ndf.loc[:, val]      Selects single column or subset of columns by label\\ndf.loc[val1, val2]  Select both rows and columns by label\\ndf.iloc[where]      Selects single row or subset of rows from the DataFrame by integer position\\ndf.iloc[:, where]   Selects single column or subset of columns by integer position\\ndf.iloc[where_i, where_j] Select both rows and columns by integer position\\ndf.at[label_i, label_j]     Select a single scalar value by row and column label\\ndf.iat[i, j]                Select a single scalar value by row and column position (integers)\\n                            reindex method Select either rows or columns by labels\\nget_value, set_value        methods Select single value by row and column label\\n'"
     },
     "execution_count": 19,
     "metadata": {},
     "output_type": "execute_result"
    }
   ],
   "source": [
    "#loc and iloc\n",
    "print(data.loc['Colorado', ['two', 'three']])\n",
    "print(data.iloc[2, [3, 0, 1]])\n",
    "print(data.iloc[2])\n",
    "print(data.iloc[[1,2],[3,0,1]])\n",
    "print(data.loc[:'Utah', 'two'])\n",
    "print(data.iloc[:, :3][data.three > 5])\n",
    "'''\n",
    "Type                Notes\n",
    "df[val]             Select single column or sequence of columns from the DataFrame; special case\n",
    "                    conveniences: boolean array (filter rows), slice (slice rows), or boolean DataFrame\n",
    "                    (set values based on some criterion)\n",
    "df.loc[val]         Selects single row or subset of rows from the DataFrame by label\n",
    "df.loc[:, val]      Selects single column or subset of columns by label\n",
    "df.loc[val1, val2]  Select both rows and columns by label\n",
    "df.iloc[where]      Selects single row or subset of rows from the DataFrame by integer position\n",
    "df.iloc[:, where]   Selects single column or subset of columns by integer position\n",
    "df.iloc[where_i, where_j] Select both rows and columns by integer position\n",
    "df.at[label_i, label_j]     Select a single scalar value by row and column label\n",
    "df.iat[i, j]                Select a single scalar value by row and column position (integers)\n",
    "                            reindex method Select either rows or columns by labels\n",
    "get_value, set_value        methods Select single value by row and column label\n",
    "'''\n"
   ],
   "metadata": {
    "collapsed": false,
    "pycharm": {
     "name": "#%%\n"
    }
   }
  },
  {
   "cell_type": "code",
   "execution_count": 20,
   "outputs": [
    {
     "name": "stdout",
     "output_type": "stream",
     "text": [
      "a    5.2\n",
      "c    1.1\n",
      "d    NaN\n",
      "e    0.0\n",
      "f    NaN\n",
      "g    NaN\n",
      "dtype: float64\n",
      "            b   c     d   e\n",
      "Colorado  NaN NaN   NaN NaN\n",
      "Ohio      3.0 NaN   6.0 NaN\n",
      "Oregon    NaN NaN   NaN NaN\n",
      "Texas     9.0 NaN  12.0 NaN\n",
      "Utah      NaN NaN   NaN NaN\n"
     ]
    }
   ],
   "source": [
    "#ARITMETIC AND DATA ALIGNMENT\n",
    "s1 = pd.Series([7.3, -2.5, 3.4, 1.5], index=['a', 'c', 'd', 'e'])\n",
    "s2 = pd.Series([-2.1, 3.6, -1.5, 4, 3.1],index=['a', 'c', 'e', 'f', 'g'])\n",
    "#solo se sumaran las coincidencias en caso que 1 este faltante se podnra NAN\n",
    "print(s1 + s2)\n",
    "df1 = pd.DataFrame(np.arange(9.).reshape((3, 3)), columns=list('bcd'),index=['Ohio', 'Texas', 'Colorado'])\n",
    "df2 = pd.DataFrame(np.arange(12.).reshape((4, 3)), columns=list('bde'),index=['Utah', 'Ohio', 'Texas', 'Oregon'])\n",
    "print(df1+df2)"
   ],
   "metadata": {
    "collapsed": false,
    "pycharm": {
     "name": "#%%\n"
    }
   }
  },
  {
   "cell_type": "code",
   "execution_count": 21,
   "outputs": [
    {
     "name": "stdout",
     "output_type": "stream",
     "text": [
      "               b         d         e\n",
      "Utah    0.462911 -1.905724 -1.540730\n",
      "Ohio   -0.898401  1.751641 -1.579633\n",
      "Texas   0.960997 -0.861179  0.020323\n",
      "Oregon -0.694836  0.968316 -0.341784\n",
      "               b         d         e\n",
      "Utah    0.462911  1.905724  1.540730\n",
      "Ohio    0.898401  1.751641  1.579633\n",
      "Texas   0.960997  0.861179  0.020323\n",
      "Oregon  0.694836  0.968316  0.341784\n",
      "b    1.859398\n",
      "d    3.657364\n",
      "e    1.599956\n",
      "dtype: float64\n",
      "b    1.859398\n",
      "d    3.657364\n",
      "e    1.599956\n",
      "dtype: float64\n",
      "Utah      2.368635\n",
      "Ohio      3.331274\n",
      "Texas     1.822175\n",
      "Oregon    1.663152\n",
      "dtype: float64\n",
      "            b         d         e\n",
      "min -0.898401 -1.905724 -1.579633\n",
      "max  0.960997  1.751641  0.020323\n",
      "             b         d         e\n",
      "max   0.960997  1.751641  0.020323\n",
      "min  -0.898401 -1.905724 -1.579633\n",
      "mean -0.042332 -0.011736 -0.860456\n",
      "sum  -0.169329 -0.046945 -3.441824\n",
      "                                                        0  \\\n",
      "Utah    b    0.462911\n",
      "d   -1.442812\n",
      "e   -2.983542\n",
      "Name...   \n",
      "Ohio    b   -0.898401\n",
      "d    0.853239\n",
      "e   -0.726394\n",
      "Name...   \n",
      "Texas   b    0.960997\n",
      "d    0.099818\n",
      "e    0.120142\n",
      "Name...   \n",
      "Oregon  b   -0.694836\n",
      "d    0.273481\n",
      "e   -0.068304\n",
      "Name...   \n",
      "\n",
      "                                                        1  \n",
      "Utah    b    0.462911\n",
      "d   -0.882181\n",
      "e    1.359202\n",
      "Name...  \n",
      "Ohio    b   -0.898401\n",
      "d   -1.573676\n",
      "e    2.485831\n",
      "Name...  \n",
      "Texas   b    0.960997\n",
      "d   -0.827590\n",
      "e   -0.016819\n",
      "Name...  \n",
      "Oregon  b   -0.694836\n",
      "d   -0.672821\n",
      "e    0.229960\n",
      "Name...  \n"
     ]
    }
   ],
   "source": [
    "#FUNCTIONAL APPLICATION AND MAPPING\n",
    "frame = pd.DataFrame(np.random.randn(4, 3), columns=list('bde'),index=['Utah', 'Ohio', 'Texas', 'Oregon'])\n",
    "print(frame)\n",
    "print(np.abs(frame))\n",
    "f =lambda x: x.max() - x.min()\n",
    "print(frame.apply(f))\n",
    "print(frame.apply(lambda x: x.max() - x.min()))\n",
    "print(frame.apply(f, axis='columns'))\n",
    "def funct(x):\n",
    "    return pd.Series([x.min(), x.max()], index=['min', 'max'])\n",
    "print(frame.apply(funct))\n",
    "print(frame.apply(lambda x : pd.Series(\n",
    "    [x.max(),x.min(), x.mean(), x.sum()],\n",
    "    index=['max','min','mean','sum'])))\n",
    "print(frame.apply(\n",
    "    lambda x: pd.Series([x.cumsum(), x.cumprod()]), axis='columns'))"
   ],
   "metadata": {
    "collapsed": false,
    "pycharm": {
     "name": "#%%\n"
    }
   }
  },
  {
   "cell_type": "code",
   "execution_count": 26,
   "outputs": [
    {
     "name": "stdout",
     "output_type": "stream",
     "text": [
      "d    0\n",
      "a    1\n",
      "b    2\n",
      "c    3\n",
      "dtype: int64\n",
      "a    1\n",
      "b    2\n",
      "c    3\n",
      "d    0\n",
      "dtype: int64\n",
      "       d  a  b  c\n",
      "Three  0  1  2  3\n",
      "one    4  5  6  7\n",
      "       d  a  b  c\n",
      "Three  0  1  2  3\n",
      "one    4  5  6  7\n",
      "       a  b  c  d\n",
      "Three  1  2  3  0\n",
      "one    5  6  7  4\n",
      "       d  c  b  a\n",
      "Three  0  3  2  1\n",
      "one    4  7  6  5\n",
      "   b  a\n",
      "0  4  0\n",
      "1  7  1\n",
      "2 -3  0\n",
      "3  2  1\n",
      "   b  a\n",
      "2 -3  0\n",
      "3  2  1\n",
      "0  4  0\n",
      "1  7  1\n",
      "   b  a\n",
      "2 -3  0\n",
      "3  2  1\n",
      "0  4  0\n",
      "1  7  1\n",
      "   b  a\n",
      "2 -3  0\n",
      "0  4  0\n",
      "3  2  1\n",
      "1  7  1\n"
     ]
    }
   ],
   "source": [
    "#sorting and ranking\n",
    "obj =pd.Series(range(4), index=['d', 'a', 'b', 'c'])\n",
    "print(obj)\n",
    "print(obj.sort_index())\n",
    "frame = pd.DataFrame(np.arange(8).reshape((2,4))\n",
    "                      , index=['Three','one']\n",
    "                      , columns=['d','a','b','c'])\n",
    "#orden simple\n",
    "#ordena todos por columna\n",
    "print(frame.sort_index())\n",
    "# similar que sin axis\n",
    "print(frame.sort_index(axis= 0))\n",
    "#ordena por filas\n",
    "print(frame.sort_index(axis=1))\n",
    "print(frame.sort_index(axis=1, ascending=False))\n",
    "\n",
    "'''\n",
    "When sorting a DataFrame, you can use the data in one or more columns as the sort\n",
    "keys. To do so, pass one or more column names to the by option of sort_values:\n",
    "'''\n",
    "frame = pd.DataFrame({'b': [4, 7, -3, 2], 'a': [0, 1, 0, 1]})\n",
    "print(frame)\n",
    "#ordena los valors por b\n",
    "print(frame.sort_values(by ='b'))\n",
    "#ordea los valores por b y luego por a se nota en los duplicados\n",
    "#la jerarquias de los duplicado de b se ven afectador por el orden a\n",
    "print(frame.sort_values(by =['b','a']))\n",
    "#prioriza el ordanimiento por a y luego por b\n",
    "print(frame.sort_values(by =['a','b']))"
   ],
   "metadata": {
    "collapsed": false,
    "pycharm": {
     "name": "#%%\n"
    }
   }
  },
  {
   "cell_type": "code",
   "execution_count": 27,
   "outputs": [
    {
     "name": "stdout",
     "output_type": "stream",
     "text": [
      "one    9.25\n",
      "two   -5.80\n",
      "dtype: float64\n"
     ]
    }
   ],
   "source": [
    "#SUMMARING AND COMPUTING DESCRIPTIVE STASTICS\n",
    "df = pd.DataFrame([[1.4, np.nan], [7.1, -4.5],[np.nan, np.nan], [0.75, -1.3]],index=['a', 'b', 'c', 'd'],columns=['one', 'two'])\n",
    "print(df.sum())\n",
    "print(df.sum(axis='columns'))\n",
    "print(df.mean(axis='columns', skipna=False))\n",
    "print(df.cumsum())\n",
    "print(df.describe())"
   ],
   "metadata": {
    "collapsed": false,
    "pycharm": {
     "name": "#%%\n"
    }
   }
  },
  {
   "cell_type": "code",
   "execution_count": null,
   "outputs": [],
   "source": [
    "#UNIQUE VALUES,VALUE COUNTS AND MEMBERSHIP\n",
    "obj = pd.Series(['c', 'a', 'd', 'a', 'a', 'b', 'b', 'c', 'c'])\n",
    "uniques =obj.unique()\n",
    "print(uniques)\n",
    "print(obj.value_counts())\n",
    "mask = obj.isin(['a','b'])\n",
    "print(obj[mask])\n",
    "to_match =pd.Series(['c', 'a', 'b', 'b', 'c', 'a'])\n",
    "'''\n",
    "Related to isin is the Index.get_indexer method, which gives you an index array\n",
    "from an array of possibly non-distinct values into another array of distinct values:\n",
    "'''\n",
    "unique_vals  = pd.Series(['a','b'])\n",
    "print(pd.Index(unique_vals).get_indexer(to_match))"
   ],
   "metadata": {
    "collapsed": false,
    "pycharm": {
     "name": "#%%\n"
    }
   }
  }
 ],
 "metadata": {
  "kernelspec": {
   "display_name": "Python 3",
   "language": "python",
   "name": "python3"
  },
  "language_info": {
   "codemirror_mode": {
    "name": "ipython",
    "version": 2
   },
   "file_extension": ".py",
   "mimetype": "text/x-python",
   "name": "python",
   "nbconvert_exporter": "python",
   "pygments_lexer": "ipython2",
   "version": "2.7.6"
  }
 },
 "nbformat": 4,
 "nbformat_minor": 0
}