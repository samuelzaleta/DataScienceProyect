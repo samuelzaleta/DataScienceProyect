{
 "cells": [
  {
   "cell_type": "code",
   "execution_count": null,
   "outputs": [],
   "source": [
    "import numpy as np\n",
    "\n",
    "my_arr = np.arange(10000)\n",
    "my_list  = list(range(1000))\n",
    "\n",
    "data = np.random.rand(2,3)\n",
    "print(data * 10)\n",
    "print(data + data)\n",
    "print(data.shape)\n",
    "print(data.dtype)"
   ],
   "metadata": {
    "collapsed": false,
    "pycharm": {
     "name": "#%%\n"
    }
   }
  },
  {
   "cell_type": "code",
   "execution_count": null,
   "outputs": [],
   "source": [
    "data1 =[1,2,3,4,5]\n",
    "arr1 = np.array(data1)\n",
    "print(arr1)\n",
    "data2 = [[1,2,3,4],[5,6,7,8]]\n",
    "arr2 = np.array(data2)\n",
    "print(arr2)\n",
    "print(arr2.shape)\n",
    "##dimension array\n",
    "print(arr2.ndim)\n",
    "\n",
    "#array zeros\n",
    "print(np.zeros(10))\n",
    "#(n,m)\n",
    "print(np.zeros((3,6)))\n",
    "print(np.ones(10))\n",
    "print(np.empty((2,3,2)))\n",
    "print(np.arange(15))"
   ],
   "metadata": {
    "collapsed": false,
    "pycharm": {
     "name": "#%%\n"
    }
   }
  },
  {
   "cell_type": "code",
   "execution_count": null,
   "outputs": [],
   "source": [
    "arr_1 = np.array([1,2,3,5], dtype = np.float64)\n",
    "print(arr_1)\n",
    "arr_2 = np.array([1,2,3,4,5], dtype=np.int32)\n",
    "print(arr_2)\n",
    "\n",
    "arr = np.array([1,2,3,4])\n",
    "print(arr.dtype)\n",
    "float_arr = arr.astype(np.float64)\n",
    "print(float_arr)"
   ],
   "metadata": {
    "collapsed": false,
    "pycharm": {
     "name": "#%%\n"
    }
   }
  },
  {
   "cell_type": "code",
   "execution_count": null,
   "outputs": [],
   "source": [
    "#aritmetic array\n",
    "arr = np.array([[1,2,3,4],[1,3,4,5]])\n",
    "print(arr)\n",
    "print(arr*arr)\n",
    "print(arr-arr)\n",
    "print(arr/1)\n",
    "print(arr**0.5)\n",
    "\n",
    "arr2 = np.array([[0,3,5,6],[7,2,4,12]])\n",
    "print(arr2)\n",
    "\n",
    "print(arr2 > arr)"
   ],
   "metadata": {
    "collapsed": false,
    "pycharm": {
     "name": "#%%\n"
    }
   }
  },
  {
   "cell_type": "code",
   "execution_count": null,
   "outputs": [],
   "source": [
    "##basic indexing and slicing\n",
    "arr = np.arange(10)\n",
    "print(arr[2])\n",
    "print(arr[4])\n",
    "print(arr[5])\n",
    "print(arr[5:8])\n",
    "print(arr[0])\n",
    "print(arr[-1])\n",
    "print(arr[5:8])\n",
    "arr[5:8] =12\n",
    "print(arr)\n",
    "arr_slice = arr[5:8]\n",
    "arr_slice[1] =12234\n",
    "print(arr)\n",
    "arr_slice[:] =64\n",
    "arr_slice = arr[5:8].copy()"
   ],
   "metadata": {
    "collapsed": false,
    "pycharm": {
     "name": "#%%\n"
    }
   }
  },
  {
   "cell_type": "code",
   "execution_count": null,
   "outputs": [],
   "source": [
    "arr2 = np.array([[1,2,3],[4,5,6],[7,8,9]])\n",
    "print(arr2[2])\n",
    "print(arr2[0][2])\n",
    "print(arr2[0,2])\n",
    "print(arr2[:2])\n",
    "print(arr2[:2, 1:])\n",
    "print(arr2[:2,2])\n",
    "print(arr2[:2,2])\n",
    "print(arr2[:, :1])\n",
    "arr2[:2, 1:] = 0"
   ],
   "metadata": {
    "collapsed": false,
    "pycharm": {
     "name": "#%%\n"
    }
   }
  },
  {
   "cell_type": "code",
   "execution_count": null,
   "outputs": [],
   "source": [
    "#BOOLEAN INDEXING\n",
    "names = np.array(['Bob', 'Joe', 'Will', 'Bob', 'Will', 'Joe', 'Joe'])\n",
    "print(names)\n",
    "data = np.random.randn(7,4)\n",
    "print(data)\n",
    "print(names =='Bob')\n",
    "print(data[names =='Bob'])\n",
    "print(data[names =='Bob', :2])\n",
    "print(names !='Bob')\n",
    "print(data[~(names =='Bob')])\n",
    "cond = names =='Bob'\n",
    "print(data[~cond])\n",
    "mask =(names =='Bob')|(names =='Will')\n",
    "#and -> &\n",
    "print(mask)\n",
    "print(data[mask])\n",
    "data[data <  0] = 0\n",
    "print(data)\n",
    "data[names != 'Joe'] = 7"
   ],
   "metadata": {
    "collapsed": false,
    "pycharm": {
     "name": "#%%\n"
    }
   }
  },
  {
   "cell_type": "code",
   "execution_count": null,
   "outputs": [],
   "source": [
    "#fancy index\n",
    "arr=  np.empty((8,4))\n",
    "for i in range(8):\n",
    "    arr[i] = i\n",
    "print(arr)\n",
    "print(arr[[1,2,5,6,7,0]])\n",
    "print(arr[[-3,-5,-7]])\n",
    "arr = np.arange(32).reshape((8,4))\n",
    "print(arr)\n",
    "#colum , index recorda que empieza en 0\n",
    "print(arr[[1,5,7,2],[0,3,1,2]])"
   ],
   "metadata": {
    "collapsed": false,
    "pycharm": {
     "name": "#%%\n"
    }
   }
  },
  {
   "cell_type": "code",
   "execution_count": null,
   "outputs": [],
   "source": [
    "#Transposing Array and Swapping Axes\n",
    "arr =  np.arange(15).reshape((3,5))\n",
    "print(arr)\n",
    "arr.T\n",
    "print(arr.T)"
   ],
   "metadata": {
    "collapsed": false,
    "pycharm": {
     "name": "#%%\n"
    }
   }
  },
  {
   "cell_type": "code",
   "execution_count": null,
   "outputs": [],
   "source": [
    "arr = np.random.randn(6,3)\n",
    "print(arr)\n",
    "#mutilplicacion matricial acuerdate :v\n",
    "print(np.dot(arr.T, arr))"
   ],
   "metadata": {
    "collapsed": false,
    "pycharm": {
     "name": "#%%\n"
    }
   }
  },
  {
   "cell_type": "code",
   "execution_count": null,
   "outputs": [],
   "source": [
    "#UNIVERSAL FUNCTIONS: FAST ELEMENT-WISE\n",
    "arr = np.arange(10)\n",
    "print(np.sqrt(arr))\n",
    "print(np.exp(arr))\n",
    "arr =np.arange(7)*5\n",
    "#separan los valores del array en dos modf\n",
    "rem,whole_part  = np.modf(arr)\n",
    "print(rem)\n",
    "print(whole_part)\n",
    "#np.where(arr > 0, 2, arr) # np.where(cond, True, False)"
   ],
   "metadata": {
    "collapsed": false,
    "pycharm": {
     "name": "#%%\n"
    }
   }
  },
  {
   "cell_type": "code",
   "execution_count": null,
   "outputs": [],
   "source": [
    "#Mathematical and Statis Methods\n",
    "arr = np.random.randn(5,4)\n",
    "print(arr)\n",
    "print(arr.mean())\n",
    "print(np.mean(arr))\n",
    "print(arr.sum())\n",
    "print(arr.mean(axis=1))\n",
    "#arr.mean(1) means “compute mean across the columns”\n",
    "print(arr.mean(axis=0))\n",
    "# arr.sum(0)means “compute sum down the rows.”\n",
    "arr = np.arange(8)\n",
    "print(arr.cumsum())\n",
    "print(arr.cumprod())\n",
    "arr = np.array([[0, 1, 2], [3, 4, 5], [6, 7, 8]])\n",
    "print(arr.cumprod(axis=1))\n",
    "print(arr.cumsum(axis=0))"
   ],
   "metadata": {
    "collapsed": false,
    "pycharm": {
     "name": "#%%\n"
    }
   }
  },
  {
   "cell_type": "code",
   "execution_count": null,
   "outputs": [],
   "source": [
    "#Methods for Boolean Arrays\n",
    "\n",
    "arr = np.random.randn(100)\n",
    "print(arr)\n",
    "print((arr > 0).sum())\n",
    "bools  = np.array([True, True,False,True])\n",
    "print(bools.any())\n",
    "print(bools.all())"
   ],
   "metadata": {
    "collapsed": false,
    "pycharm": {
     "name": "#%%\n"
    }
   }
  },
  {
   "cell_type": "code",
   "execution_count": null,
   "outputs": [],
   "source": [
    "#SORTING\n",
    "arr = np.random.randn(6)\n",
    "print(arr.sort())\n",
    "arr  = np.random.randn(5,3)\n",
    "print(arr)\n",
    "print(arr.sort(1))"
   ],
   "metadata": {
    "collapsed": false,
    "pycharm": {
     "name": "#%%\n"
    }
   }
  },
  {
   "cell_type": "code",
   "execution_count": null,
   "outputs": [],
   "source": [
    "#unique and other set Logic\n",
    "names = np.array(['Bob', 'Joe', 'Will', 'Bob', 'Will', 'Joe', 'Joe'])\n",
    "print(np.unique(names))\n",
    "ints = np.array([1,2,3,4,5,6,7,8,9,1,2,3,4,5,6,7,10])\n",
    "print(np.unique(ints))\n",
    "print(sorted(set(names)))\n",
    "\n",
    "#compare similar como isin en pandas pero en numpy\n",
    "values = np.array([6,0,0,3,2,5,6])\n",
    "print(np.in1d(values,[2,3,6]))\n"
   ],
   "metadata": {
    "collapsed": false,
    "pycharm": {
     "name": "#%%\n"
    }
   }
  }
 ],
 "metadata": {
  "kernelspec": {
   "display_name": "Python 3",
   "language": "python",
   "name": "python3"
  },
  "language_info": {
   "codemirror_mode": {
    "name": "ipython",
    "version": 2
   },
   "file_extension": ".py",
   "mimetype": "text/x-python",
   "name": "python",
   "nbconvert_exporter": "python",
   "pygments_lexer": "ipython2",
   "version": "2.7.6"
  }
 },
 "nbformat": 4,
 "nbformat_minor": 0
}